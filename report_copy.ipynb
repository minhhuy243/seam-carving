{
 "cells": [
  {
   "cell_type": "markdown",
   "metadata": {
    "id": "3xIqYm99X4Np"
   },
   "source": [
    "# Báo cáo Đồ án Song song hóa và tối ưu hóa một ứng dụng\n",
    "- Thông tin nhóm\n",
    "  - Lê Thanh Hiếu - 1712434\n",
    "  - Nguyễn Văn Tuấn - 1512638\n",
    "  - Phan Hữu Tú - 1712861\n",
    "- Github: https://github.com/tuancamtbtx/gpu-python"
   ]
  },
  {
   "cell_type": "code",
   "execution_count": 18,
   "metadata": {
    "colab": {
     "base_uri": "https://localhost:8080/"
    },
    "id": "WZ0M1aDdq8Ar",
    "outputId": "a9aef265-911f-474a-a8d7-959c1683be31"
   },
   "outputs": [
    {
     "name": "stdout",
     "output_type": "stream",
     "text": [
      "Drive already mounted at /content/drive; to attempt to forcibly remount, call drive.mount(\"/content/drive\", force_remount=True).\n"
     ]
    }
   ],
   "source": [
    "from google.colab import drive\n",
    "drive.mount('/content/drive')"
   ]
  },
  {
   "cell_type": "code",
   "execution_count": 19,
   "metadata": {
    "id": "nY9ciA37rAxb"
   },
   "outputs": [],
   "source": [
    "import os\n",
    "os.chdir(\"/content/drive/MyDrive/LTSSUD/gpu-python\")"
   ]
  },
  {
   "cell_type": "markdown",
   "metadata": {
    "id": "oMOTeJ9GcG05"
   },
   "source": [
    "## 1. Mô tả ứng dụng\n",
    "- **Ứng dụng**: **Thay đổi kích thước ảnh bằng Seam Carving**\n",
    "    - **Input**: một tấm ảnh (RGB)\n",
    "    - **Output**: một tấm ảnh mới được thay đổi kích thước (không chỉ cho chiều rộng mà còn cho chiều cao, không chỉ thu nhỏ mà còn phóng to) từ tấm ảnh gốc mà không làm biến dạng các đối tượng quan trọng.\n",
    "- **Ý nghĩa thực tế khi sử dụng?**\n",
    "    - Khi muốn có các phiên bản với các kích thước khác nhau của cùng một tấm ảnh để hiển thị trên các thiết bị khác nhau (máy tính, điện thoại, ...)\n",
    "   - Một ví dụ thực tế khi tạo thumbnail (ảnh đại diện) cho 1 video chúng ta sẽ dựa vào nhưng yếu tố khác để resize ảnh về đúng khung hình ta mong muốn như màn hình điện thoại 16:9 , 3:4\n",
    "\n",
    "- **Ứng dụng này có cần tăng tốc không?**  \n",
    "    - Vì seam carving rất chậm khi cài đặt tuần tự và có tiềm năng song song hóa.<br/>\n",
    "    ![](readmeimages/seam_carving.png) <br/>\n",
    "> Nguồn ảnh: Slides Lập trình song song HK1\n"
   ]
  },
  {
   "cell_type": "markdown",
   "metadata": {
    "id": "76lJE8TAYCOO"
   },
   "source": [
    "## 2. Cài đặt tuần tự\n"
   ]
  },
  {
   "cell_type": "markdown",
   "metadata": {
    "id": "aqUbPuiqcJ-Y"
   },
   "source": [
    "### 2.1. Thiết kế\n",
    "- **Ý tưởng**: \n",
    "    - Một seam: một tập các pixel, mỗi dòng một pixel,pixel của dòng r & dòng r+1 được kết nối với nhau\n",
    "    - Việc thay đổi kích thước ảnh được thực hiện bằng cách loại bỏ đi các điểm ảnh ít quan trọng và giữ lại các điểm ảnh quan trọng.\n"
   ]
  },
  {
   "cell_type": "markdown",
   "metadata": {
    "id": "_S1yl5PMaFCK"
   },
   "source": [
    "#### 2.1.1. Các bước triển khai thuật toán\n",
    "\n",
    "![](readmeimages/workflow.png)"
   ]
  },
  {
   "cell_type": "markdown",
   "metadata": {
    "id": "34jIRDYTlXbc"
   },
   "source": [
    "##### Thuật toán xóa seam theo cột\n",
    "  - Bước 1: Chuyển ảnh từ RGB sang Grayscale\n",
    "  - Bước 2: Tính bảng Energy của ảnh\n",
    "  - Bước 3: Tìm bảng chi phí nhỏ nhất\n",
    "  - Bước 4: Tìm seam có chi phí nhỏ nhất\n",
    "  - Bước 5: Xóa seam nhỏ nhất tìm được ở bước 4\n",
    "  - Bước 6: Lặp lại bước 5 cho tới khi xóa  đủ số seams cần xóa\n"
   ]
  },
  {
   "cell_type": "markdown",
   "metadata": {
    "id": "4PwDJ0S_4QPn"
   },
   "source": [
    "##### Thuật toán xóa seam theo hàng\n",
    "  - Bước 1: Xoay ảnh một góc 90 độ theo chiều kim đồng hồ\n",
    "  - Bước 2: Lặp lại thuật toán xóa seam theo cột cho đến khi xóa đủ số seams cần xóa\n",
    "  - Bước 3: Xoay ảnh lại một góc 90 độ ngược chiều kim đồng hồ"
   ]
  },
  {
   "cell_type": "markdown",
   "metadata": {
    "id": "u5aZHBRf4TFS"
   },
   "source": [
    "##### Thuật toán chèn seam theo cột\n",
    "  - Bước 1: Thực hiện thuật toán xóa seam theo cột trên một ảnh được sao chép từ ảnh gốc và lưu lại danh sách các điểm ảnh đã xóa theo đúng thứ tự đã xóa\n",
    "  - Bước 2: Chèn các seams vào ảnh gốc theo đúng thứ tự tọa độ đã lưu. Với giá trị của pixel được chèn được lấy bằng trung bình của 2 pixels kế bên."
   ]
  },
  {
   "cell_type": "markdown",
   "metadata": {
    "id": "gQnIuv3r4UYw"
   },
   "source": [
    "##### Thuật toán chèn seam theo hàng\n",
    "  - Bước 1: Xoay ảnh 90 độ theo chiều kim đồng hồ\n",
    "  - Bước 2: Thực hiện thuật toán chèn seam theo cột cho đến khi đủ số seams cần xóa\n",
    "  - Bước 3: Xoay ảnh lại một góc 90 độ ngược chiều kim đồng hồ"
   ]
  },
  {
   "cell_type": "markdown",
   "metadata": {
    "id": "E4quhweLaPmh"
   },
   "source": [
    "#### 2.1.2. Chi tiết thuật toán backward energy"
   ]
  },
  {
   "cell_type": "markdown",
   "metadata": {
    "id": "Q3tcdkdakJFd"
   },
   "source": [
    "##### Xây dựng bảng Energy\n",
    "- Chuyển ảnh từ rgb sang graysale\n",
    "- Dùng edge detetion\n",
    "    - Phát hiện ảnh theo chiều x (1): thực hiện convolution giữa ảnh grayscale với bộ lọc x-Sobel\n",
    "    - Phát hiện ảnh theo chiều y (2): thực hiện convolution giữa ảnh grayscale với bộ lọc y-Sobel\n",
    "- Độ quan trọng của mỗi pixel = abs(kết quả tương ứng của (1)) + abs(kết quả tương ứng của (2))"
   ]
  },
  {
   "cell_type": "markdown",
   "metadata": {
    "id": "jWDXsgVZkJFd"
   },
   "source": [
    "##### Xây dựng bảng chi phí nhỏ nhất\n",
    "- Sử dụng Dynamic Programming để xây dựng bảng chi phí nhỏ nhất\n",
    "    - Ở hàng trên cùng ta có tổng chi phí giữ nguyên. Với các hàng còn lại, chi phí của mỗi pixel bằng engergy của nó cộng với chi phí nhỏ nhất của 3 pixel liền kề phía trên. <br/>\n",
    "    ![](readmeimages/algo1.png)<br/>\n",
    "    > Nguồn ảnh: https://github.com/kalpeshdusane/Seam-Carving-B.E.-Project\n",
    "\n",
    "    - Lặp lại quá trình cho đến hàng cuối cùng ta được bảng chi phí nhỏ nhất. <br/>\n",
    "    ![](readmeimages/algo2.png)\n",
    "    > Nguồn ảnh: https://github.com/kalpeshdusane/Seam-Carving-B.E.-Project\n"
   ]
  },
  {
   "cell_type": "markdown",
   "metadata": {
    "id": "exghDJuPkJFd"
   },
   "source": [
    "##### Xác định seam nhỏ nhất\n",
    "- Từ bảng chi phí nhỏ nhất trên ta xác định được vị trí có tổng chi phí nhỏ nhất ở hàng cuối cùng và quay lui để xác định seam nhỏ nhất<br/>\n",
    "![](readmeimages/algo3.png)\n",
    "> Nguồn ảnh: https://github.com/kalpeshdusane/Seam-Carving-B.E.-Project"
   ]
  },
  {
   "cell_type": "markdown",
   "metadata": {
    "id": "2Ta23XpqkJFe"
   },
   "source": [
    "#### 2.1.3 Chi tiết thuật toán forward energy (cải tiến backward energy)"
   ]
  },
  {
   "cell_type": "markdown",
   "metadata": {
    "id": "oMU6_4n6kJFe"
   },
   "source": [
    "##### Ý tưởng cải tiến\n",
    "- Forward Energy dự đoán những điểm ảnh nào sẽ liền kề sau khi loại bỏ đường seam và sử dụng điều đó để đề xuất đường seam tốt nhất để loại bỏ. Điều này trái ngược với backward energy."
   ]
  },
  {
   "cell_type": "markdown",
   "metadata": {
    "id": "cKxNgcn5kJFe"
   },
   "source": [
    "##### Tại sao phải cải tiến?\n",
    "\n",
    "   ![](readmeimages/backwards-example.png)\n",
    "\n",
    "- Đối với thuật toán cũ thì công thức tính toán năng lượng nhỏ nhất của 1 pixel dựa vào 3 pixel liền kề phía trên. \n",
    "    ![](readmeimages/differents.png)\n",
    "    > Nguồn ảnh: https://avikdas.com/2019/07/29/improved-seam-carving-with-forward-energy.html\n",
    "\n",
    "- Điều này sẽ gây trở ngại lớn nếu cả 3 pixel có độ chênh lệch không lớn, và dẫn tới việc loại bỏ seam (điểm có năng lượng nhỏ nhất) thì lại vô tình bỏ đi phần quan trọng của texture trong tấm hình.\n"
   ]
  },
  {
   "cell_type": "markdown",
   "metadata": {
    "id": "PAPGLx-_kJFf"
   },
   "source": [
    "##### Mô tả thuật toán\n",
    "Hình dưới là mô tả rõ nét giữa 2 seams liên tiếp nằm trong 1 đường seam của hình. Như vậy, chúng ta sẽ có 3 trường hợp như trong hình, \n",
    "- seam (x-1, y-1) liên kết seam (x, y)\n",
    "- seam (x, y-1) liên kết seam (x, y)\n",
    "- seam (x+1, y-1) liên kết seam (x, y)\n",
    "    ![](readmeimages/seam-removal-new-edges.png)\n",
    "    > Nguồn ảnh: https://avikdas.com/2019/07/29/improved-seam-carving-with-forward-energy.html\n",
    "\n",
    "Tiếp theo, chúng ta phải xem xét những pixel nào được kết hợp với nhau bằng cách loại bỏ một pixel cụ thể. Điều này phụ thuộc vào việc pixel hiện tại được kết nối với một đường seam ở trên cùng bên trái (top-left), trên cùng (top-center) hoặc trên cùng bên phải (top-right). \n",
    "\n",
    "Ví dụ: nếu pixel hiện tại (x, y) kết nối với đường nối ở trên cùng bên trái (x - 1, y - 1), thì các biên cạnh mới được tạo thành do sự giao nhau mới giữa các pixel:\n",
    "\n",
    "- Pixel ở bên trái của pixel hiện tại, với tọa độ (x-1, y), hiện đang chạm vào pixel ở bên phải của pixel hiện tại, có tọa độ (x + 1, y).\n",
    "\n",
    "- Pixel phía trên pixel hiện tại, có tọa độ (x, y − 1), hiện đang chạm vào pixel ở bên trái của pixel hiện tại, có tọa độ (x − 1, y).\n",
    "\n",
    "Vì các cặp pixel này sẽ chạm nhau sau khi loại bỏ đường seam, ta sẽ so sánh sự khác biệt về màu sắc giữa mỗi cặp pixel. Lưu ý rằng chỉ xem xét các cạnh mới liên quan đến pixel trong hàng hiện tại, vì hàng trước đó được tính (do thực hiện tuần tự từng hàng).\n",
    "\n"
   ]
  },
  {
   "cell_type": "markdown",
   "metadata": {
    "id": "DqHdPTZwkJFf"
   },
   "source": [
    "##### Các công thức thực hiện\n",
    "- Ta quy định lần lượt: L = top-left, U = top-center, R = top-right\n",
    "\n",
    "- Công thức tính độ chênh lệch giữa 2 điểm ảnh bất kỳ (grayscale):\n",
    "<br>\n",
    "\n",
    "$$D(x, y) = \\lvert M_{p_0} - M_{p_1} \\rvert$$\n",
    "\n",
    "\n",
    "\n",
    "- Công thức tính độ chênh lệch giữa các cặp pixel tạo ra biên cạnh mới (phục vụ quy hoạch động):\n",
    "\n",
    "$C_{L}(x, y) = D[(x - 1, y), (x + 1, y)] + D[(x, y - 1), (x - 1, y)]$\n",
    "<br>\n",
    "$C_{U}(x, y) = D[(x - 1, y), (x + 1, y)]$\n",
    "<br>\n",
    "$C_{R}(x, y) = D[(x - 1, y), (x + 1, y)] + D[(x, y - 1), (x + 1, y)]$\n",
    "\n",
    "\n",
    "\n",
    "- Không giống như trước đây, mỗi lựa chọn seam để tiếp tục kết nối các pixel khác nhau lại với nhau nó thuộc đường seam. Điều này có nghĩa là ta phải xem xét 3 chi phí khác nhau trong mỗi trường hợp $(L, U, R)$. \n",
    "<br>\n",
    "    - Ví dụ: nếu tiếp tục đường seam là từ pixel trên cùng bên trái (L), ta phải xem xét chi phí $C_L$ làm giá trị năng lượng tại pixel đang xét. Cuối cùng, ta chọn tùy chọn năng lượng thấp nhất trong số tất cả các tùy chọn này với công thức quy hoạch động:\n",
    "    \n",
    "$$ M(x, y) = min( \\begin{cases} M(x - 1, y - 1) + C_{L}(x, y)  \\\\  M(x, y - 1) + C_{U}(x, y) \\\\  M(x + 1, y - 1) + C_{R}(x, y) \\end{cases} )$$\n",
    "\n",
    "\n",
    "- Từ công thức này, ta có thể thấy, mỗi bước forward energy đều dự đoán được seam tiếp theo dựa trên việc dự đoán khi bỏ seam đó đi thì các biên cạnh mới đc tạo thành độ kết nối giữa các cặp pixel lớn hay nhỏ.\n"
   ]
  },
  {
   "cell_type": "markdown",
   "metadata": {
    "id": "z_usi4v_kJFf"
   },
   "source": [
    "### 2.2. Đánh giá"
   ]
  },
  {
   "cell_type": "markdown",
   "metadata": {
    "id": "9v1mOjtRkJFg"
   },
   "source": [
    "#### 2.2.1 Đánh giá về kết quả"
   ]
  },
  {
   "cell_type": "markdown",
   "metadata": {
    "id": "Eg5532VwkJFg"
   },
   "source": [
    "##### Kết quả giữa hàm backward energy và forward energy"
   ]
  },
  {
   "cell_type": "markdown",
   "metadata": {
    "id": "ah5-S5s7kJFg"
   },
   "source": [
    "| backward_energy | forward_energy|\n",
    "|:---:|:---:|\n",
    "|<img src=\"images/ouput_energy.jpg\" width=\"350\">|<img src=\"images/ouput_forward_energy.jpg\" width=\"350\">|"
   ]
  },
  {
   "cell_type": "markdown",
   "metadata": {
    "id": "93LDEI9EkJFg"
   },
   "source": [
    "##### Kết quả theo số seam"
   ]
  },
  {
   "cell_type": "markdown",
   "metadata": {
    "id": "K7dttER4kJFg"
   },
   "source": [
    "| Số seams |                  Xóa theo cột                   |                Xóa theo hàng                 |                  Chèn theo cột                  |                Chèn theo hàng                 |\n",
    "| :------: | :---------------------------------------------: | :------------------------------------------: | :---------------------------------------------: | :-------------------------------------------: |\n",
    "|   100    | ![](images/output_remove100seams_by_column.jpg) | ![](images/output_remove100seams_by_row.jpg) | ![](images/output_remove100seams_by_column.jpg) | ![](images/output_insert100seams_by_rows.jpg) |\n",
    "|   300    | ![](images/output_remove300seams_by_column.jpg) | ![](images/output_remove300seams_by_row.jpg) | ![](images/output_insert300seams_by_column.jpg) | ![](images/output_insert300seams_by_rows.jpg) |"
   ]
  },
  {
   "cell_type": "markdown",
   "metadata": {
    "id": "IsalfEiOkJFh"
   },
   "source": [
    "__So sánh kết quả hàm forward energy với bài báo gốc__"
   ]
  },
  {
   "cell_type": "markdown",
   "metadata": {
    "id": "SuoyMJAqkJFh"
   },
   "source": [
    "| Ảnh gốc | Results (paper) | Forward Energy (nhóm tự cài đặt)|\n",
    "|:---:|:---:|:---:|\n",
    "|![](readmeimages/rain_origin.png)|![](readmeimages/rain_result_paper.png)|![](readmeimages/rain_remove150seams_by_column.jpg)|"
   ]
  },
  {
   "cell_type": "markdown",
   "metadata": {
    "id": "qMVA69mTkJFh"
   },
   "source": [
    "__Nhận xét__: Phiên bản tự cài đặt của nhóm cho kết quả khá tốt, gần như tương đương so với paper gốc"
   ]
  },
  {
   "cell_type": "markdown",
   "metadata": {
    "id": "I87nYpGYkJFh"
   },
   "source": [
    "#### 2.2.2. Đánh giá về thời gian"
   ]
  },
  {
   "cell_type": "markdown",
   "metadata": {
    "id": "Oj4hfd6NkJFh"
   },
   "source": [
    "##### Thời gian giữa hàm backward energy và forward energy"
   ]
  },
  {
   "cell_type": "markdown",
   "metadata": {
    "id": "BQ12jPwBkJFh"
   },
   "source": [
    "Thời gian tính backward energy và forward energy với input là bức ảnh có kích thước 968x1428\n",
    "\n",
    "|backward energy|forward energy|\n",
    "|:---:|:---:|\n",
    "|1.247s |0.731s |"
   ]
  },
  {
   "cell_type": "markdown",
   "metadata": {
    "id": "ZZpTUWb5kJFh"
   },
   "source": [
    "##### Thời gian chạy theo số seam\n",
    "\n",
    "| Số seams | Xóa theo cột | Xóa theo hàng | Chèn theo cột | Chèn theo hàng |\n",
    "| :------: | :----------: | :-----------: | :-----------: | :------------: |\n",
    "|   100    |   26.952s    |    26.437s    |    28.313s    |    27.982s     |\n",
    "|   300    |   71.227s    |    67.611s    |    80.591s    |    78.045s     |\n",
    "|   600    |   125.444s   |    108.591s   |   140.174s    |    129.985s    |\n",
    "\n",
    "Tổng thời gian: 914.206s"
   ]
  },
  {
   "cell_type": "markdown",
   "metadata": {
    "id": "zNoc6i8mcRdj"
   },
   "source": [
    "## 3. Cài đặt song song"
   ]
  },
  {
   "cell_type": "markdown",
   "metadata": {
    "id": "AkNfrwNWkJFh"
   },
   "source": [
    "### 3.1. Phân tích"
   ]
  },
  {
   "cell_type": "markdown",
   "metadata": {
    "id": "j680dXYSmctG"
   },
   "source": [
    "#### 3.1.1. Chọn các thành phần song song hóa"
   ]
  },
  {
   "cell_type": "markdown",
   "metadata": {
    "id": "rx38pl9PmgK4"
   },
   "source": [
    "- Nhóm tiến hành chạy phiên bản tuần tự chèn 100 seams theo chiều ngang để in ra thời gian chạy của các hàm"
   ]
  },
  {
   "cell_type": "code",
   "execution_count": null,
   "metadata": {
    "colab": {
     "base_uri": "https://localhost:8080/"
    },
    "id": "DS7MNqj2mvnV",
    "outputId": "5d35cef8-0d14-42c3-da23-66d5645218df"
   },
   "outputs": [
    {
     "name": "stdout",
     "output_type": "stream",
     "text": [
      "SEAM CARVING CPU\n",
      "Input image shape: (968, 1428, 3)\n",
      "rgb2gray time: 1.056 seconds\n",
      "forward energy time:  41.489 seconds\n",
      "get minimum cost table time: 0.924 seconds\n",
      "get minimum seam time:  0.280 seconds\n",
      "remove seam time: 1.125 seconds\n",
      "insert seam time: 2.302 seconds\n",
      "Output image shape: (1068, 1428, 3)\n",
      "Total time: 47.390 seconds\n"
     ]
    }
   ],
   "source": [
    "!python seam_carving_cpu.py -in \"images/input.jpg\" -out \"output_cpu/output_insert100seams_by_row.jpg\" -dx 0 -dy 100 -test_time"
   ]
  },
  {
   "cell_type": "markdown",
   "metadata": {
    "id": "y4aeIX6TkJFi"
   },
   "source": [
    "Nhận thấy rằng thời gian chạy của các hàm ngoài get_minimum_seam đều có thời gian lớn và có tiềm năng song song hóa (các pixels độc lập), đặc biệt là hàm forward energy. Nên nhóm quyết định song song hóa các hàm rgb2gray, forward_energy, get_minimum_cost _table, remove_seam và insert_seam"
   ]
  },
  {
   "cell_type": "markdown",
   "metadata": {
    "id": "i2Va5vcBkJFi"
   },
   "source": [
    "### 3.2. Thiết kế"
   ]
  },
  {
   "cell_type": "markdown",
   "metadata": {
    "id": "b4taaNutkJFi"
   },
   "source": [
    "#### 3.2.1. Chuyển ảnh RGB sang ảnh xám trên hàm Kernel "
   ]
  },
  {
   "cell_type": "markdown",
   "metadata": {
    "id": "VzZKWxVHkJFi"
   },
   "source": [
    "- Mỗi thread sẽ chịu trách nhiệm tính kết quả grayscale cho một pixel."
   ]
  },
  {
   "cell_type": "markdown",
   "metadata": {
    "id": "q4D21dZgkJFj"
   },
   "source": [
    "#### 3.2.2. Tính bảng năng lượng trên hàm Kernel "
   ]
  },
  {
   "cell_type": "markdown",
   "metadata": {
    "id": "-Rld5qjlkJFj"
   },
   "source": [
    "Vì hàm forward energy có sử  dụng một bảng tích lũy năng lượng để tính toán các đường nối bằng quy hoạch động nên kết quả dòng phía dưới phải dựa vào dòng phía trên. Từ đây ta sẽ song song hóa theo từng dòng, với mỗi cột trong một dòng sẽ được đảm nhận bởi một thread"
   ]
  },
  {
   "cell_type": "markdown",
   "metadata": {
    "id": "_mGnrThhkJFj"
   },
   "source": [
    "#### 3.2.3. Xây dựng bảng chi phí nhỏ nhất trên hàm Kernel "
   ]
  },
  {
   "cell_type": "markdown",
   "metadata": {
    "id": "CZIosRmAkJFj"
   },
   "source": [
    "Để tìm bảng chi phí nhỏ nhất.  \n",
    "- Vì chi phí nhỏ nhất của mỗi pixel đươc tính bằng cách cộng thêm chi phí nhỏ nhất của 1 trong 3 pixel kề trên nên ta có thể song song hóa việc tính toán theo từng dòng.\n",
    "- Khi gọi hàm kernel này, mỗi thread sẽ được tạo cho mỗi column, bảng chi phí nhỏ nhất được tạo theo từng dòng, với mỗi thread sẽ tính chi phí cho một pixel trên dòng đó.  \n",
    "- Vì mỗi dòng của bảng chi phí nhỏ nhất sẽ phụ thuộc vào dòng phía trên, những threads sẽ phải synchronize sau mỗi dòng.  "
   ]
  },
  {
   "cell_type": "markdown",
   "metadata": {
    "id": "jVXK09oxkJFj"
   },
   "source": [
    "#### 3.2.4. Xóa seam trên hàm Kernel "
   ]
  },
  {
   "cell_type": "markdown",
   "metadata": {
    "id": "0TCrxRDGkJFj"
   },
   "source": [
    "- Đối với hàm xóa seams thì các xử lý pixels của ảnh là độc lập, từ đó ta có thể tối ưu hóa bằng hàm kernel được áp dụng trên từng điểm ảnh của hình.\n",
    "- Việc xóa seams bản chất là gán lại giá trị của từng pixels trên ảnh gốc sang ảnh kết quả, các phép gán độc lập có thể được thực hiện trên từng threads.\n"
   ]
  },
  {
   "cell_type": "markdown",
   "metadata": {
    "id": "0ENrNz0TkJFk"
   },
   "source": [
    "#### 3.2.5. Chèn seam trên hàm Kernel "
   ]
  },
  {
   "cell_type": "markdown",
   "metadata": {
    "id": "A2xUxlxwkJFk"
   },
   "source": [
    "- Tương tự với xóa seams, các pixels của ảnh là độc lập, từ đó ta có thể tối ưu hóa bằng hàm kernel được áp dụng trên từng điểm ảnh của hình.\n",
    "- Việc chèn seams bản chất là gán lại giá trị của từng pixels trên ảnh gốc sang ảnh kết quả, các phép gán độc lập có thể được thực hiện trên từng threads.\n"
   ]
  },
  {
   "cell_type": "markdown",
   "metadata": {
    "id": "u3YvqzvqlqEg"
   },
   "source": [
    "### 3.3. Đánh giá "
   ]
  },
  {
   "cell_type": "markdown",
   "metadata": {
    "id": "lv7L4T1ql5dB"
   },
   "source": [
    "#### 3.3.2. Đánh giá độ chính xác "
   ]
  },
  {
   "cell_type": "markdown",
   "metadata": {
    "id": "OQ1nX5Fyr6bD"
   },
   "source": [
    "MÔ TẢ CHO HÀM HASH IMAGES\n",
    "\n",
    "Mỗi bức hình được chạy ra ở phiên bản cpu và phiên bản gpu được lưu ở 2 folder tương ứng (1 folder chứa output gpu, 1 folder chứa output cpu) và 2 tấm hình output so sánh phải có cùng tên.\n",
    "\n",
    "Hàm hash sử dụng thư viện `hashlib` của python.\n",
    "Hash được thực hiện trên `sha256` cho từng bức hình và so sánh giá trị này của từng bức hình để đưa ra kết quả.\n",
    "\n",
    "Nếu hash của 2 bức hình giống nhau, in kết quả ra file `compare_images_result.txt` với số lượng hình giống nhau và khác nhau ở cả 2 folder."
   ]
  },
  {
   "cell_type": "code",
   "execution_count": null,
   "metadata": {
    "colab": {
     "base_uri": "https://localhost:8080/"
    },
    "id": "qYrDv7Qaqlvr",
    "outputId": "2e82b34b-6e29-47db-b770-985f4cb1922a"
   },
   "outputs": [
    {
     "name": "stdout",
     "output_type": "stream",
     "text": [
      "Comparing output_cpu/remove200seams_by_row_baseline.jpg & output_gpu/remove200seams_by_row_baseline.jpg\n",
      "Status: PASS\n",
      "Image 1(sha256): 13a37fc754974b59233d97a95ca8f5b8405ca26d29ab110c448a52e900c1c69b\n",
      "Image 2(sha256): 13a37fc754974b59233d97a95ca8f5b8405ca26d29ab110c448a52e900c1c69b\n",
      "Comparing output_cpu/insert500seams_by_row_baseline.jpg & output_gpu/insert500seams_by_row_baseline.jpg\n",
      "Status: PASS\n",
      "Image 1(sha256): 3b32cfaca8875ddf23ec5b40c5d7958acd52165d3ee657a916f7769dcd5e3c56\n",
      "Image 2(sha256): 3b32cfaca8875ddf23ec5b40c5d7958acd52165d3ee657a916f7769dcd5e3c56\n",
      "Comparing output_cpu/insert200seams_by_column_baseline.jpg & output_gpu/insert200seams_by_column_baseline.jpg\n",
      "Status: PASS\n",
      "Image 1(sha256): eb1476fa05c7eb367cf4c12405ad6c45a9e76a3f8f9c8fa517d66bb4c762478e\n",
      "Image 2(sha256): eb1476fa05c7eb367cf4c12405ad6c45a9e76a3f8f9c8fa517d66bb4c762478e\n",
      "Comparing output_cpu/insert200seams_by_row_baseline.jpg & output_gpu/insert200seams_by_row_baseline.jpg\n",
      "Status: PASS\n",
      "Image 1(sha256): ce3b5800f32da757e9333ff959c9e1a158d4c6592a2cf6ae3b6fb5d2c66a81e6\n",
      "Image 2(sha256): ce3b5800f32da757e9333ff959c9e1a158d4c6592a2cf6ae3b6fb5d2c66a81e6\n",
      "Comparing output_cpu/remove500seams_by_row_baseline.jpg & output_gpu/remove500seams_by_row_baseline.jpg\n",
      "Status: PASS\n",
      "Image 1(sha256): fdc6040e7265eb3c0242ec5bab058626c62c80a24a0f30081a09018da2651b9c\n",
      "Image 2(sha256): fdc6040e7265eb3c0242ec5bab058626c62c80a24a0f30081a09018da2651b9c\n",
      "Comparing output_cpu/remove500seams_by_column_baseline.jpg & output_gpu/remove500seams_by_column_baseline.jpg\n",
      "Status: PASS\n",
      "Image 1(sha256): 7fd790b7bfe7e5849befd8f52dc84a4de2d7ef9de0a90c1be01bbf69e7e6dcea\n",
      "Image 2(sha256): 7fd790b7bfe7e5849befd8f52dc84a4de2d7ef9de0a90c1be01bbf69e7e6dcea\n",
      "Comparing output_cpu/insert100seams_by_column_baseline.jpg & output_gpu/insert100seams_by_column_baseline.jpg\n",
      "Status: PASS\n",
      "Image 1(sha256): 0d1665c8ecea183f798f2cac6e6daedaebbebea1ff987b13b5c6d373755a0d0a\n",
      "Image 2(sha256): 0d1665c8ecea183f798f2cac6e6daedaebbebea1ff987b13b5c6d373755a0d0a\n",
      "Comparing output_cpu/insert100seams_by_row_baseline.jpg & output_gpu/insert100seams_by_row_baseline.jpg\n",
      "Status: PASS\n",
      "Image 1(sha256): 703897155cc7e6b5a94c0a56cd9d5790f7d40e73b49c8e841c11912d30665fd9\n",
      "Image 2(sha256): 703897155cc7e6b5a94c0a56cd9d5790f7d40e73b49c8e841c11912d30665fd9\n",
      "Comparing output_cpu/remove50seams_by_column_baseline.jpg & output_gpu/remove50seams_by_column_baseline.jpg\n",
      "Status: PASS\n",
      "Image 1(sha256): 6b325a02436ccf3f90281b9725b9b1d2725c1f7a9cda9b057d02f04923a92cdb\n",
      "Image 2(sha256): 6b325a02436ccf3f90281b9725b9b1d2725c1f7a9cda9b057d02f04923a92cdb\n",
      "Comparing output_cpu/insert50seams_by_row_baseline.jpg & output_gpu/insert50seams_by_row_baseline.jpg\n",
      "Status: PASS\n",
      "Image 1(sha256): e1d1313c369f577fe188b49e51079d31ebc4063445a06eabeaf18b06c4803eab\n",
      "Image 2(sha256): e1d1313c369f577fe188b49e51079d31ebc4063445a06eabeaf18b06c4803eab\n",
      "Comparing output_cpu/remove50seams_by_row_baseline.jpg & output_gpu/remove50seams_by_row_baseline.jpg\n",
      "Status: PASS\n",
      "Image 1(sha256): 4b26f6b9f88e744d049f989fe2d9d00d07d6a54e3f7ee87d37722350310e2317\n",
      "Image 2(sha256): 4b26f6b9f88e744d049f989fe2d9d00d07d6a54e3f7ee87d37722350310e2317\n",
      "Comparing output_cpu/remove200seams_by_column_baseline.jpg & output_gpu/remove200seams_by_column_baseline.jpg\n",
      "Status: PASS\n",
      "Image 1(sha256): cf338b381fc9cdbd9e91852d23e4467d537fb51095afac4bb8645a4b81f8545b\n",
      "Image 2(sha256): cf338b381fc9cdbd9e91852d23e4467d537fb51095afac4bb8645a4b81f8545b\n",
      "Comparing output_cpu/remove100seams_by_row_baseline.jpg & output_gpu/remove100seams_by_row_baseline.jpg\n",
      "Status: PASS\n",
      "Image 1(sha256): a7ab29e6846e90040bf7c20f719d0b3ea83cdd15d3960b691d72ae77d6eb02ae\n",
      "Image 2(sha256): a7ab29e6846e90040bf7c20f719d0b3ea83cdd15d3960b691d72ae77d6eb02ae\n",
      "Comparing output_cpu/insert500seams_by_column_baseline.jpg & output_gpu/insert500seams_by_column_baseline.jpg\n",
      "Status: PASS\n",
      "Image 1(sha256): 4ee30af04e613aca9ff6154ef3a6ab389beee5157ebee8a0833271859b68e2f5\n",
      "Image 2(sha256): 4ee30af04e613aca9ff6154ef3a6ab389beee5157ebee8a0833271859b68e2f5\n",
      "Comparing output_cpu/remove100seams_by_column_baseline.jpg & output_gpu/remove100seams_by_column_baseline.jpg\n",
      "Status: PASS\n",
      "Image 1(sha256): 1dcb1c2a49396f1c42bd7d6c88a8698ddb75da285c06dc4c5f356a8bc8b7e474\n",
      "Image 2(sha256): 1dcb1c2a49396f1c42bd7d6c88a8698ddb75da285c06dc4c5f356a8bc8b7e474\n",
      "Comparing output_cpu/insert50seams_by_column_baseline.jpg & output_gpu/insert50seams_by_column_baseline.jpg\n",
      "Status: PASS\n",
      "Image 1(sha256): e7e925be9dfd01a0906dd288fd118afe5732d4356e4478a3d0833e1abe9441d7\n",
      "Image 2(sha256): e7e925be9dfd01a0906dd288fd118afe5732d4356e4478a3d0833e1abe9441d7\n",
      "Total PASS: 16\n",
      "Total FAIL: 0\n"
     ]
    }
   ],
   "source": [
    "!python test_hash_images.py output_cpu output_gpu"
   ]
  },
  {
   "cell_type": "markdown",
   "metadata": {
    "id": "jzQeoWFAo0YX"
   },
   "source": [
    "#### 3.3.3. Đánh giá về thời gian chạy"
   ]
  },
  {
   "cell_type": "markdown",
   "metadata": {
    "id": "kVRjLNz4sckq"
   },
   "source": [
    "Sử dụng nvprof để đo thời gian chạy các hàm kernel"
   ]
  },
  {
   "cell_type": "code",
   "execution_count": null,
   "metadata": {
    "colab": {
     "base_uri": "https://localhost:8080/"
    },
    "id": "F9wtTNw-r4kK",
    "outputId": "295f132f-70e4-4b36-edf1-86fb61cdba34"
   },
   "outputs": [
    {
     "name": "stdout",
     "output_type": "stream",
     "text": [
      "SEAM CARVING GPU - BASELINE\n",
      "Input image shape: (968, 1428, 3)\n",
      "==421== NVPROF is profiling process 421, command: python3 seam_carving_gpu.py -in images/input.jpg -out images/output_insert100seams_by_row_gpu.jpg -dx 0 -dy 100\n",
      "Output image shape: (1068, 1428, 3)\n",
      "Total time: 61.459 seconds\n",
      "==421== Profiling application: python3 seam_carving_gpu.py -in images/input.jpg -out images/output_insert100seams_by_row_gpu.jpg -dx 0 -dy 100\n",
      "==421== Profiling result:\n",
      "            Type  Time(%)      Time     Calls       Avg       Min       Max  Name\n",
      "                        %         s                   s         s         s\n",
      " GPU activities:    38.61  1.702567       500  3.41e-03  2.56e-06  0.012336  [CUDA memcpy DtoH]\n",
      "                    31.10  1.371629       400  3.43e-03  1.73e-06  8.23e-03  [CUDA memcpy HtoD]\n",
      "                    16.54  0.729433    142700  5.11e-06  5.02e-06  6.08e-06  cudapy::__main__::forward_energy_kernel$242(Array<double, int=2, C, mutable, aligned>, Array<double, int=2, C, mutable, aligned>, Array<double, int=2, C, mutable, aligned>, __int64)\n",
      "                     9.28  0.409244    142700  2.87e-06  2.75e-06  3.94e-06  cudapy::__main__::get_minimum_cost_table_kernel$243(Array<double, int=2, C, mutable, aligned>, Array<unsigned short, int=2, C, mutable, aligned>, __int64, __int64)\n",
      "                     1.93  0.085228       100  8.52e-04  7.96e-04  9.36e-04  cudapy::__main__::remove_seam_kernel$247(Array<double, int=3, C, mutable, aligned>, Array<__int64, int=1, C, mutable, aligned>, __int64, __int64, Array<double, int=3, C, mutable, aligned>)\n",
      "                     1.65  0.072637       100  7.26e-04  5.92e-04  9.13e-04  cudapy::__main__::insert_seam_kernel$248(Array<double, int=3, C, mutable, aligned>, Array<__int64, int=1, C, mutable, aligned>, __int64, __int64, Array<double, int=3, C, mutable, aligned>)\n",
      "                     0.89  0.039334       100  3.93e-04  3.45e-04  5.53e-04  cudapy::__main__::rgb2gray_kernel$241(Array<double, int=3, C, mutable, aligned>, Array<double, int=2, C, mutable, aligned>)\n",
      "      API calls:    33.26  2.529021    285700  8.85e-06  6.43e-06  4.12e-03  cuLaunchKernel\n",
      "                    26.50  2.014844       500  4.03e-03  2.35e-05  0.013631  cuMemcpyDtoH\n",
      "                    18.61  1.414792       400  3.54e-03  1.28e-05  8.87e-03  cuMemcpyHtoD\n",
      "                     7.65  0.581450       990  5.87e-04  3.92e-06  1.51e-03  cuMemFree\n",
      "                     3.91  0.296988         5  0.059398  0.054049  0.067862  cuLinkAddData\n",
      "                     3.24  0.246027         1  0.246027  0.246027  0.246027  cuDevicePrimaryCtxRetain\n",
      "                     2.43  0.184476      1000  1.84e-04  9.60e-06  0.010893  cuMemAlloc\n",
      "                     2.38  0.181093    572912  3.16e-07  1.55e-07  2.93e-04  cuCtxGetCurrent\n",
      "                     1.99  0.151282    572910  2.64e-07  1.52e-07  2.85e-04  cuCtxGetDevice\n",
      "                     0.02  1.42e-03         5  2.83e-04  2.04e-04  4.15e-04  cuModuleLoadDataEx\n",
      "                     0.01  1.14e-03         5  2.27e-04  4.60e-05  8.93e-04  cuLinkCreate\n",
      "                     0.01  6.02e-04         5  1.20e-04  9.74e-05  1.47e-04  cuLinkComplete\n",
      "                     0.00  3.64e-04         1  3.64e-04  3.64e-04  3.64e-04  cuDeviceTotalMem\n",
      "                     0.00  3.45e-04         1  3.45e-04  3.45e-04  3.45e-04  cuDeviceGetPCIBusId\n",
      "                     0.00  1.72e-04       101  1.71e-06  1.37e-07  7.55e-05  cuDeviceGetAttribute\n",
      "                     0.00  1.12e-04         2  5.58e-05  5.35e-05  5.80e-05  cuDeviceGetName\n",
      "                     0.00  3.09e-05         1  3.09e-05  3.09e-05  3.09e-05  cuMemGetInfo\n",
      "                     0.00  1.05e-05        25  4.19e-07  1.87e-07  2.50e-06  cuFuncGetAttribute\n",
      "                     0.00  9.93e-06         5  1.99e-06  1.32e-06  2.68e-06  cuLinkDestroy\n",
      "                     0.00  8.53e-06         5  1.71e-06  1.36e-06  2.27e-06  cuModuleGetFunction\n",
      "                     0.00  2.79e-06         3  9.30e-07  3.57e-07  1.79e-06  cuDeviceGet\n",
      "                     0.00  2.43e-06         1  2.43e-06  2.43e-06  2.43e-06  cuInit\n",
      "                     0.00  2.04e-06         4  5.09e-07  2.37e-07  1.22e-06  cuDeviceGetCount\n",
      "                     0.00  1.46e-06         1  1.46e-06  1.46e-06  1.46e-06  cuCtxPushCurrent\n",
      "                     0.00  1.33e-06         1  1.33e-06  1.33e-06  1.33e-06  cuDriverGetVersion\n",
      "                     0.00  7.91e-07         1  7.91e-07  7.91e-07  7.91e-07  cudaRuntimeGetVersion\n",
      "                     0.00  6.12e-07         1  6.12e-07  6.12e-07  6.12e-07  cuDeviceComputeCapability\n",
      "                     0.00  2.61e-07         1  2.61e-07  2.61e-07  2.61e-07  cuDeviceGetUuid\n"
     ]
    }
   ],
   "source": [
    "!nvprof --normalized-time-unit s python seam_carving_gpu.py -in \"images/input.jpg\" -out \"images/output_insert100seams_by_row_gpu.jpg\" -dx 0 -dy 100"
   ]
  },
  {
   "cell_type": "markdown",
   "metadata": {
    "id": "DiB_nL9dsvdc"
   },
   "source": [
    "Nhận xét: Phiên bản GPU baseline chạy trên colab cho kết quả chưa tốt.  \n",
    "Nguyên nhân: Hàm kernel chiếm chi phí lớn nhất là hàm forward energy nhưng ở phương pháp forward nó lại phải thực hiện theo từng dòng dẫn đến số lượng threads song song hóa không đủ nhiều."
   ]
  },
  {
   "cell_type": "markdown",
   "metadata": {
    "id": "V_Byj2MjcViX"
   },
   "source": [
    "## 4. Tối ưu hóa cài đặt song song\n"
   ]
  },
  {
   "cell_type": "markdown",
   "metadata": {
    "id": "PmqbkkIJlTRp"
   },
   "source": [
    "### 4.1. Tối ưu hóa 1: Sử dụng SMEM\n"
   ]
  },
  {
   "cell_type": "markdown",
   "metadata": {
    "id": "GxNb6bWjtFyX"
   },
   "source": [
    "#### 4.1.1. Phân tích\n",
    "- Nhận thấy các hàm forward energy, get_minimum_cost_table đọc dữ liệu từ GMEM tương đối nhiều lần nên nhóm tiến hành cài đặt lại các hàm kernel này sử dụng SMEM để giảm truy xuất GMEM\n"
   ]
  },
  {
   "cell_type": "markdown",
   "metadata": {
    "id": "fYD5igmVuola"
   },
   "source": [
    "#### 4.1.2. Cài đặt\n"
   ]
  },
  {
   "cell_type": "markdown",
   "metadata": {
    "id": "wviyRsWxzj0M"
   },
   "source": [
    "##### 4.1.2.1. Cài đặt SMEM cho hàm forward energy kernel\n",
    "- Do mỗi lần gọi kernel chỉ sử dụng 2 row (r và r-1) trong mảng ảnh xám nên ta chỉ cần khởi tạo SMEM có kích thước (BLOCK_SIZE + 2, 2) cho mảng, BLOCK_SIZE + 2 là để lưu thêm 2 giá trị ngoài cùng của mỗi dòng, tránh truy xuất ngoài bound của mảng trong phần tính toán.\n",
    "- Với mảng m phục vụ quy hoạch động, hàm kernel sử dụng dòng r-1 phía trên để tìm giá trị năng lượng. Cũng tương tự như trên ta phải khởi tạo SMEM với kích thước BLOCK_SIZE + 2 để tránh truy xuất index sai."
   ]
  },
  {
   "cell_type": "markdown",
   "metadata": {
    "id": "HvcR0_Xpzrr6"
   },
   "source": [
    "##### 4.1.2.1. Cài đặt SMEM cho hàm get minimum cost table kernel\n"
   ]
  },
  {
   "cell_type": "markdown",
   "metadata": {
    "id": "Fwccp2iU2KtH"
   },
   "source": [
    "- Mỗi lần gọi hàm kernel sẽ truy xuất dòng r-1 trong mảng energy nên ta sử dụng SMEM cho dòng này. Cấp phát mảng có kích thước BLOCK_SIZE + 2 để tránh truy xuất index sai."
   ]
  },
  {
   "cell_type": "markdown",
   "metadata": {
    "id": "fSCQZDIvuo3q"
   },
   "source": [
    "#### 4.1.3. Đánh giá\n"
   ]
  },
  {
   "cell_type": "markdown",
   "metadata": {
    "id": "siQryHqL2pqy"
   },
   "source": [
    "##### 4.1.3.1. Đánh giá về độ chính xác\n"
   ]
  },
  {
   "cell_type": "code",
   "execution_count": null,
   "metadata": {
    "colab": {
     "base_uri": "https://localhost:8080/"
    },
    "id": "1cjsSOYM6V1H",
    "outputId": "8654d3a1-5fbd-4158-efda-0c6fdc55ff97"
   },
   "outputs": [
    {
     "name": "stdout",
     "output_type": "stream",
     "text": [
      "Comparing output_gpu/remove50seams_by_column_baseline.jpg & output_gpu_v1/remove50seams_by_column_baseline.jpg\n",
      "Status: FAIL\n",
      "Image 1(sha256): 6b325a02436ccf3f90281b9725b9b1d2725c1f7a9cda9b057d02f04923a92cdb\n",
      "Image 2(sha256): 0f769828d65377a17537c795075eb1b1af4af6df8d2d5b5179cddb113e589d9f\n",
      "Comparing output_gpu/insert200seams_by_row_baseline.jpg & output_gpu_v1/insert200seams_by_row_baseline.jpg\n",
      "Status: FAIL\n",
      "Image 1(sha256): ce3b5800f32da757e9333ff959c9e1a158d4c6592a2cf6ae3b6fb5d2c66a81e6\n",
      "Image 2(sha256): 7af9f6ac8c3d3963f98fecff8b604c886e03e0dde32a688f41272dd1667bec9d\n",
      "Comparing output_gpu/insert200seams_by_column_baseline.jpg & output_gpu_v1/insert200seams_by_column_baseline.jpg\n",
      "Status: FAIL\n",
      "Image 1(sha256): eb1476fa05c7eb367cf4c12405ad6c45a9e76a3f8f9c8fa517d66bb4c762478e\n",
      "Image 2(sha256): 22a896ba11eb9fa25eead06ac7220dc21da83d67c885b9f78f8f298bd389122c\n",
      "Comparing output_gpu/insert50seams_by_column_baseline.jpg & output_gpu_v1/insert50seams_by_column_baseline.jpg\n",
      "Status: FAIL\n",
      "Image 1(sha256): e7e925be9dfd01a0906dd288fd118afe5732d4356e4478a3d0833e1abe9441d7\n",
      "Image 2(sha256): f8769ff012d23ca73fe560161870bcc3e787e4720c2251d308771982a7c6c6d1\n",
      "Comparing output_gpu/insert500seams_by_column_baseline.jpg & output_gpu_v1/insert500seams_by_column_baseline.jpg\n",
      "Status: FAIL\n",
      "Image 1(sha256): 4ee30af04e613aca9ff6154ef3a6ab389beee5157ebee8a0833271859b68e2f5\n",
      "Image 2(sha256): 5a81eb8d77e9a30a0e09c7aecb7b6faa866f51496d445d5cfad8877ad300988d\n",
      "Comparing output_gpu/insert50seams_by_row_baseline.jpg & output_gpu_v1/insert50seams_by_row_baseline.jpg\n",
      "Status: FAIL\n",
      "Image 1(sha256): e1d1313c369f577fe188b49e51079d31ebc4063445a06eabeaf18b06c4803eab\n",
      "Image 2(sha256): 13685f03e5cc87935568f9b12c3bd85018ef519bfa2e9337ea7d4128e1e4fa0b\n",
      "Comparing output_gpu/insert500seams_by_row_baseline.jpg & output_gpu_v1/insert500seams_by_row_baseline.jpg\n",
      "Status: FAIL\n",
      "Image 1(sha256): 3b32cfaca8875ddf23ec5b40c5d7958acd52165d3ee657a916f7769dcd5e3c56\n",
      "Image 2(sha256): 025a2913b3e932d1011eccf453d78f32a117df9da7c2fbe091440af71b263078\n",
      "Comparing output_gpu/remove100seams_by_column_baseline.jpg & output_gpu_v1/remove100seams_by_column_baseline.jpg\n",
      "Status: FAIL\n",
      "Image 1(sha256): 1dcb1c2a49396f1c42bd7d6c88a8698ddb75da285c06dc4c5f356a8bc8b7e474\n",
      "Image 2(sha256): d3f1fcc41ea0d3f4606cfadb91c889740fbe2c7816d68f39927c3fad33e07934\n",
      "Comparing output_gpu/insert100seams_by_column_baseline.jpg & output_gpu_v1/insert100seams_by_column_baseline.jpg\n",
      "Status: FAIL\n",
      "Image 1(sha256): 0d1665c8ecea183f798f2cac6e6daedaebbebea1ff987b13b5c6d373755a0d0a\n",
      "Image 2(sha256): 126201871703b294f751eb01de1e0b6dbbd294146169b87bf3a21af9f140617f\n",
      "Comparing output_gpu/remove200seams_by_row_baseline.jpg & output_gpu_v1/remove200seams_by_row_baseline.jpg\n",
      "Status: FAIL\n",
      "Image 1(sha256): 13a37fc754974b59233d97a95ca8f5b8405ca26d29ab110c448a52e900c1c69b\n",
      "Image 2(sha256): b3bbe11831615ca1d3f9f8cf67c7a3909f202aaa41049b686ef801ab6cbe4777\n",
      "Comparing output_gpu/remove100seams_by_row_baseline.jpg & output_gpu_v1/remove100seams_by_row_baseline.jpg\n",
      "Status: FAIL\n",
      "Image 1(sha256): a7ab29e6846e90040bf7c20f719d0b3ea83cdd15d3960b691d72ae77d6eb02ae\n",
      "Image 2(sha256): 8a83773454efb5a589e88b6bfdc11e39d70c982bc33d9ed0d64a5ef607ce082e\n",
      "Comparing output_gpu/remove500seams_by_row_baseline.jpg & output_gpu_v1/remove500seams_by_row_baseline.jpg\n",
      "Status: FAIL\n",
      "Image 1(sha256): fdc6040e7265eb3c0242ec5bab058626c62c80a24a0f30081a09018da2651b9c\n",
      "Image 2(sha256): 4e13d33916d200e8e67c51c5cd7022b2f9a60086a6c74dadf283289dbd2af8bd\n",
      "Comparing output_gpu/remove500seams_by_column_baseline.jpg & output_gpu_v1/remove500seams_by_column_baseline.jpg\n",
      "Status: FAIL\n",
      "Image 1(sha256): 7fd790b7bfe7e5849befd8f52dc84a4de2d7ef9de0a90c1be01bbf69e7e6dcea\n",
      "Image 2(sha256): bbac29274e9f4fc070b5d8bdea58f55bd52884aee3d670877695be6208437172\n",
      "Comparing output_gpu/remove200seams_by_column_baseline.jpg & output_gpu_v1/remove200seams_by_column_baseline.jpg\n",
      "Status: FAIL\n",
      "Image 1(sha256): cf338b381fc9cdbd9e91852d23e4467d537fb51095afac4bb8645a4b81f8545b\n",
      "Image 2(sha256): 24d3baa50816e28ea9d24efd675f5975002633354480e6d53272ca4831c310bc\n",
      "Comparing output_gpu/insert100seams_by_row_baseline.jpg & output_gpu_v1/insert100seams_by_row_baseline.jpg\n",
      "Status: FAIL\n",
      "Image 1(sha256): 703897155cc7e6b5a94c0a56cd9d5790f7d40e73b49c8e841c11912d30665fd9\n",
      "Image 2(sha256): 850415ceadd15ce70e31343769a933e2ee1a787d8baa4b3111ac1ee82ca68ede\n",
      "Comparing output_gpu/remove50seams_by_row_baseline.jpg & output_gpu_v1/remove50seams_by_row_baseline.jpg\n",
      "Status: FAIL\n",
      "Image 1(sha256): 4b26f6b9f88e744d049f989fe2d9d00d07d6a54e3f7ee87d37722350310e2317\n",
      "Image 2(sha256): ab915317147f05a97d58724cf1c67ea1bc5997e00d86ea0594519d465a1bb47f\n",
      "Total PASS: 0\n",
      "Total FAIL: 16\n"
     ]
    }
   ],
   "source": [
    "!python test_hash_images.py output_gpu output_gpu_v1"
   ]
  },
  {
   "cell_type": "markdown",
   "metadata": {
    "id": "8bXZZBip4Ki1"
   },
   "source": [
    "Nguyên nhân: Do lỗi ở phần tính forward energy hàm kernel mới (nhóm chưa sửa được lỗi này)"
   ]
  },
  {
   "cell_type": "markdown",
   "metadata": {
    "id": "pVd6z_en29k-"
   },
   "source": [
    "##### 4.1.3.2. Đánh giá về thời gian\n"
   ]
  },
  {
   "cell_type": "code",
   "execution_count": null,
   "metadata": {
    "colab": {
     "base_uri": "https://localhost:8080/"
    },
    "id": "Q3fAM2AJ6tJK",
    "outputId": "344d184e-ea53-4dbc-d804-0120a067ea78"
   },
   "outputs": [
    {
     "name": "stdout",
     "output_type": "stream",
     "text": [
      "SEAM CARVING GPU - OPTIMIZE 1\n",
      "Input image shape: (968, 1428, 3)\n",
      "==469== NVPROF is profiling process 469, command: python3 seam_carving_gpu_v1.py -in images/input.jpg -out images/output_insert100seams_by_row_gpu_v1.jpg -dx 0 -dy 100\n",
      "Output image shape: (1068, 1428, 3)\n",
      "Total time: 61.335 seconds\n",
      "==469== Profiling application: python3 seam_carving_gpu_v1.py -in images/input.jpg -out images/output_insert100seams_by_row_gpu_v1.jpg -dx 0 -dy 100\n",
      "==469== Profiling result:\n",
      "            Type  Time(%)      Time     Calls       Avg       Min       Max  Name\n",
      "                        %         s                   s         s         s\n",
      " GPU activities:    36.81  1.703547       500  3.41e-03  2.56e-06  0.012241  [CUDA memcpy DtoH]\n",
      "                    29.73  1.375683       400  3.44e-03  1.76e-06  9.18e-03  [CUDA memcpy HtoD]\n",
      "                    18.18  0.841272    142700  5.90e-06  5.60e-06  6.88e-06  cudapy::__main__::forward_energy_kernel_v1$242(Array<double, int=2, C, mutable, aligned>, Array<double, int=2, C, mutable, aligned>, Array<double, int=2, C, mutable, aligned>, __int64)\n",
      "                    11.05  0.511572    142700  3.58e-06  3.36e-06  4.99e-06  cudapy::__main__::get_minimum_cost_table_kernel_v1$243(Array<double, int=2, C, mutable, aligned>, Array<unsigned short, int=2, C, mutable, aligned>, __int64, __int64)\n",
      "                     1.84  0.085193       100  8.52e-04  7.95e-04  9.33e-04  cudapy::__main__::remove_seam_kernel$247(Array<double, int=3, C, mutable, aligned>, Array<__int64, int=1, C, mutable, aligned>, __int64, __int64, Array<double, int=3, C, mutable, aligned>)\n",
      "                     1.54  0.071106       100  7.11e-04  5.88e-04  9.05e-04  cudapy::__main__::insert_seam_kernel$248(Array<double, int=3, C, mutable, aligned>, Array<__int64, int=1, C, mutable, aligned>, __int64, __int64, Array<double, int=3, C, mutable, aligned>)\n",
      "                     0.85  0.039353       100  3.94e-04  3.47e-04  5.54e-04  cudapy::__main__::rgb2gray_kernel$241(Array<double, int=3, C, mutable, aligned>, Array<double, int=2, C, mutable, aligned>)\n",
      "      API calls:    35.02  2.608717    285700  9.13e-06  6.52e-06  5.41e-03  cuLaunchKernel\n",
      "                    27.09  2.018533       500  4.04e-03  2.31e-05  0.013657  cuMemcpyDtoH\n",
      "                    19.05  1.419486       400  3.55e-03  1.52e-05  9.37e-03  cuMemcpyHtoD\n",
      "                     7.80  0.581183       990  5.87e-04  3.86e-06  1.76e-03  cuMemFree\n",
      "                     2.57  0.191787         1  0.191787  0.191787  0.191787  cuDevicePrimaryCtxRetain\n",
      "                     2.38  0.177139    572912  3.09e-07  1.53e-07  1.44e-03  cuCtxGetCurrent\n",
      "                     2.37  0.176713      1000  1.77e-04  9.36e-06  9.48e-04  cuMemAlloc\n",
      "                     1.87  0.139416    572910  2.43e-07  1.46e-07  4.55e-04  cuCtxGetDevice\n",
      "                     1.80  0.134038         5  0.026808  1.39e-04  0.076199  cuLinkAddData\n",
      "                     0.02  1.27e-03         5  2.53e-04  1.86e-04  3.78e-04  cuModuleLoadDataEx\n",
      "                     0.01  8.46e-04         5  1.69e-04  9.85e-05  3.12e-04  cuLinkComplete\n",
      "                     0.00  3.65e-04         1  3.65e-04  3.65e-04  3.65e-04  cuDeviceTotalMem\n",
      "                     0.00  2.49e-04         5  4.98e-05  4.68e-05  5.60e-05  cuLinkCreate\n",
      "                     0.00  1.58e-04       101  1.57e-06  1.42e-07  6.80e-05  cuDeviceGetAttribute\n",
      "                     0.00  1.03e-04         2  5.15e-05  5.01e-05  5.29e-05  cuDeviceGetName\n",
      "                     0.00  4.51e-05         1  4.51e-05  4.51e-05  4.51e-05  cuMemGetInfo\n",
      "                     0.00  8.87e-06         5  1.77e-06  1.59e-06  2.01e-06  cuLinkDestroy\n",
      "                     0.00  8.82e-06        25  3.52e-07  1.85e-07  1.04e-06  cuFuncGetAttribute\n",
      "                     0.00  7.25e-06         5  1.45e-06  1.31e-06  1.59e-06  cuModuleGetFunction\n",
      "                     0.00  5.89e-06         1  5.89e-06  5.89e-06  5.89e-06  cuDeviceGetPCIBusId\n",
      "                     0.00  3.13e-06         1  3.13e-06  3.13e-06  3.13e-06  cuCtxPushCurrent\n",
      "                     0.00  2.58e-06         1  2.58e-06  2.58e-06  2.58e-06  cuInit\n",
      "                     0.00  2.25e-06         3  7.50e-07  5.70e-07  9.33e-07  cuDeviceGet\n",
      "                     0.00  1.84e-06         4  4.58e-07  1.70e-07  9.90e-07  cuDeviceGetCount\n",
      "                     0.00  1.16e-06         1  1.16e-06  1.16e-06  1.16e-06  cuDriverGetVersion\n",
      "                     0.00  7.26e-07         1  7.26e-07  7.26e-07  7.26e-07  cudaRuntimeGetVersion\n",
      "                     0.00  5.72e-07         1  5.72e-07  5.72e-07  5.72e-07  cuDeviceComputeCapability\n",
      "                     0.00  2.80e-07         1  2.80e-07  2.80e-07  2.80e-07  cuDeviceGetUuid\n"
     ]
    }
   ],
   "source": [
    "!nvprof --normalized-time-unit s python seam_carving_gpu_v1.py -in \"images/input.jpg\" -out \"images/output_insert100seams_by_row_gpu_v1.jpg\" -dx 0 -dy 100"
   ]
  },
  {
   "cell_type": "markdown",
   "metadata": {
    "id": "fJBOzfji3YtV"
   },
   "source": [
    "Nhận xét: Thời gian chạy của phiên bản tối ưu 1 giảm khoảng 30% ở hàm forward energy kernel nhưng lại chậm hơn ở hàm get_minimum_cost_table. Dẫn đến tổng thời gian chạy không khác biệt nhiều so với phiên bản GPU.  \n",
    "\n",
    "Nguyên nhân: Có thể là do \"bank conflict\" nên việc sử dụng SMEM chưa được tối ưu"
   ]
  },
  {
   "cell_type": "markdown",
   "metadata": {
    "id": "KYTE_J8flOtN"
   },
   "source": [
    "### 4.2. Tối ưu hóa 2: Thử nghiệm nhiều blocksize\n"
   ]
  },
  {
   "cell_type": "markdown",
   "metadata": {
    "id": "Vlpv5zgXvCgx"
   },
   "source": [
    "#### 4.2.1. Phân tích\n"
   ]
  },
  {
   "cell_type": "markdown",
   "metadata": {
    "id": "QfdRRw-DGvOs"
   },
   "source": [
    "Nhận xét: Các block size có thể sẽ thay đổi thời gian chạy do block size quyết định số  lượng thead trong 1 block.\n",
    "Việc chọn block size thì rất khó để đánh giá vì phụ thuộc vào cách hiện thực chương trình và phần cứng là GPU, do đó có thể chọn nhiều block size và chạy thử để quyết định\n",
    "\n",
    "Reference: https://stackoverflow.com/questions/9985912/how-do-i-choose-grid-and-block-dimensions-for-cuda-kernels"
   ]
  },
  {
   "cell_type": "markdown",
   "metadata": {
    "id": "xOgz-miQvCoj"
   },
   "source": [
    "#### 4.2.2. Cài đặt\n"
   ]
  },
  {
   "cell_type": "code",
   "execution_count": 20,
   "metadata": {
    "id": "REFFpmlSGVH7"
   },
   "outputs": [],
   "source": [
    "import os\n",
    "os.environ['BLOCK_SIZE_1D'] = '64'\n",
    "os.environ['BLOCK_SIZE_2D'] = '32'"
   ]
  },
  {
   "cell_type": "code",
   "execution_count": 21,
   "metadata": {
    "colab": {
     "base_uri": "https://localhost:8080/"
    },
    "id": "Orx8xPkTGWmr",
    "outputId": "f13356c4-c2bb-4a43-b265-71beed4141a2",
    "scrolled": true
   },
   "outputs": [
    {
     "name": "stdout",
     "output_type": "stream",
     "text": [
      "SEAM CARVING GPU - BASELINE\n",
      "Input image shape: (968, 1428, 3)\n",
      "Output image shape: (1168, 1428, 3)\n",
      "Total time: 106.233 seconds\n"
     ]
    }
   ],
   "source": [
    "!python seam_carving_gpu.py -in \"images/input.jpg\" -out \"output_gpu/insert200seams_by_row_baseline.jpg\" -dx 0 -dy 200 -checksum"
   ]
  },
  {
   "cell_type": "code",
   "execution_count": 22,
   "metadata": {
    "colab": {
     "base_uri": "https://localhost:8080/"
    },
    "id": "Jr7IZ9x1GkRZ",
    "outputId": "aa052b07-52b2-4fd9-9ba4-23feb241dbc7",
    "scrolled": true
   },
   "outputs": [
    {
     "name": "stdout",
     "output_type": "stream",
     "text": [
      "SEAM CARVING GPU - OPTIMIZE 1\n",
      "Input image shape: (968, 1428, 3)\n",
      "Output image shape: (968, 1628, 3)\n",
      "Total time: 77.461 seconds\n"
     ]
    }
   ],
   "source": [
    "!python seam_carving_gpu_v1.py -in \"images/input.jpg\" -out \"output_gpu_v1/insert200seams_by_column_baseline.jpg\" -dx 200 -dy 0 -checksum"
   ]
  },
  {
   "cell_type": "code",
   "execution_count": 23,
   "metadata": {
    "id": "dR0WgiKaGhiE"
   },
   "outputs": [],
   "source": [
    "os.environ['BLOCK_SIZE_1D'] = '64'\n",
    "os.environ['BLOCK_SIZE_2D'] = '32'"
   ]
  },
  {
   "cell_type": "code",
   "execution_count": 24,
   "metadata": {
    "colab": {
     "base_uri": "https://localhost:8080/"
    },
    "id": "OrVdOyiZGixn",
    "outputId": "26dd04fc-588a-45fd-961a-0ae7eb99b44a"
   },
   "outputs": [
    {
     "name": "stdout",
     "output_type": "stream",
     "text": [
      "SEAM CARVING GPU - BASELINE\n",
      "Input image shape: (968, 1428, 3)\n",
      "Output image shape: (1168, 1428, 3)\n",
      "Total time: 107.464 seconds\n"
     ]
    }
   ],
   "source": [
    "!python seam_carving_gpu.py -in \"images/input.jpg\" -out \"output_gpu/insert200seams_by_row_baseline.jpg\" -dx 0 -dy 200 -checksum"
   ]
  },
  {
   "cell_type": "code",
   "execution_count": 25,
   "metadata": {
    "colab": {
     "base_uri": "https://localhost:8080/"
    },
    "id": "lagRpPxLGizu",
    "outputId": "5c484dd7-c4dd-4cc9-9883-29b50d2c8bf6"
   },
   "outputs": [
    {
     "name": "stdout",
     "output_type": "stream",
     "text": [
      "SEAM CARVING GPU - OPTIMIZE 1\n",
      "Input image shape: (968, 1428, 3)\n",
      "Output image shape: (968, 1628, 3)\n",
      "Total time: 78.079 seconds\n"
     ]
    }
   ],
   "source": [
    "!python seam_carving_gpu_v1.py -in \"images/input.jpg\" -out \"output_gpu_v1/insert200seams_by_column_baseline.jpg\" -dx 200 -dy 0 -checksum"
   ]
  },
  {
   "cell_type": "markdown",
   "metadata": {
    "id": "w3WVbdnvvCzq"
   },
   "source": [
    "#### 4.2.3. Đánh giá\n"
   ]
  },
  {
   "cell_type": "markdown",
   "metadata": {
    "id": "4QZhkwqLItNq"
   },
   "source": [
    "Thời gian chạy khi thay đổi block size giữa các lần khác nhau chỉ có sự thay đổi ít. \n",
    "Đã có thử nghiệm với BLOCK_SIZE to hơn nhưng xảy ra lỗi khi thực hiện chạy chương trình.\n",
    "\n",
    "Nguyên nhân: \n",
    " - Có thể là do gpu đã xử lý gom thành các warp để chạy thread (1 thread chứa 32 warp)\n",
    " - Các GPU phần lớn hỗ trợ từ dưới 512 đến 1024 threads trong cùng 1 blocks, do đó nếu vượt số lượng threads tối đa sẽ lỗi.\n",
    "\n",
    "Các thử nghiệm chi tiết hơn ở: https://colab.research.google.com/drive/1swEa2VcxwGrNvwCOXu3IzS_ixqWT1afK?usp=sharing"
   ]
  },
  {
   "cell_type": "markdown",
   "metadata": {
    "id": "kdfYaOCrcwfW"
   },
   "source": [
    "## 5. Nhìn lại quá trình làm đồ án"
   ]
  },
  {
   "cell_type": "markdown",
   "metadata": {
    "id": "XHA91BDb8Ujo"
   },
   "source": [
    "- Điểm tốt:\n",
    "    - Nhóm học hỏi thêm được nhiều kiến thức về lập trình song song, numba, numpy và python\n",
    "- Điểm chưa tốt: \n",
    "    - Trong quá trình làm việc nhóm nhóm còn có nhiều khuyết điểm dẫn đến làm chậm tiến độ làm việc\n",
    "    - Nhóm dành thời gian quá nhiều vào phần so sánh output mà không tập trung vào tối ưu hóa song song\n",
    "    - Bước phân tích cần làm tốt hơn\n",
    "- Nếu có thời gian thêm:\n",
    "    - Sửa lỗi làm sai lệch kết quả khi cài đặt SMEM cho hàm forward energy\n",
    "    - Bổ sung báo cáo các bảng so sánh chi tiết hơn\n",
    "    - Cài đặt song song cả hàm get_minimum_seam để giảm lượng dữ liệu phải transfer giữa host và device\n",
    "    - Cải thiện thời gian chạy cho các phiên bản song song"
   ]
  },
  {
   "cell_type": "markdown",
   "metadata": {
    "id": "VleAwVzGczyR"
   },
   "source": [
    "## 6. Tài liệu tham khảo\n",
    "- https://vnoi.info/wiki/cs/imageprocessing/Seam-Carving.md\n",
    "- https://en.wikipedia.org/wiki/Seam_carving#cite_note-ACM1276390-1\n",
    "- Forward energy: [Improved Seam Carving for Video Retargeting](https://faculty.idc.ac.il/arik/SCWeb/vidret/index.html)\n",
    "- Song song\n",
    "  - https://shwestrick.github.io/2020/07/29/seam-carve.html"
   ]
  }
 ],
 "metadata": {
  "accelerator": "GPU",
  "colab": {
   "collapsed_sections": [],
   "name": "report.ipynb",
   "provenance": [],
   "toc_visible": true
  },
  "kernelspec": {
   "display_name": "Python 3",
   "language": "python",
   "name": "python3"
  },
  "language_info": {
   "codemirror_mode": {
    "name": "ipython",
    "version": 3
   },
   "file_extension": ".py",
   "mimetype": "text/x-python",
   "name": "python",
   "nbconvert_exporter": "python",
   "pygments_lexer": "ipython3",
   "version": "3.7.9"
  }
 },
 "nbformat": 4,
 "nbformat_minor": 1
}
