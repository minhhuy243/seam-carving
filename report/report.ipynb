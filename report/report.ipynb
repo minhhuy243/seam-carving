{
 "cells": [
  {
   "cell_type": "code",
   "execution_count": null,
   "metadata": {},
   "outputs": [],
   "source": [
    "!git clone https://github.com/minhhuy243/seam-carving.git\n",
    "%cd ./seam-carving"
   ]
  },
  {
   "cell_type": "code",
   "execution_count": null,
   "metadata": {},
   "outputs": [],
   "source": [
    "from PIL import Image\n",
    "import numpy as np\n",
    "def show_pnm(file_name):\n",
    "  with open(file_name, 'r') as f:\n",
    "    vals = f.read().split()\n",
    "  w = int(vals[1])\n",
    "  h = int(vals[2])\n",
    "  if vals[0] == 'P2': # Grayscale\n",
    "    pixels = np.array(vals[4:], dtype=np.uint8).reshape((h, w))\n",
    "  elif vals[0] == 'P3': # RGB\n",
    "    pixels = np.array(vals[4:], dtype=np.uint8).reshape((h, w, 3))\n",
    "  else:\n",
    "    return None\n",
    "  \n",
    "  return Image.fromarray(pixels)"
   ]
  },
  {
   "attachments": {},
   "cell_type": "markdown",
   "metadata": {},
   "source": [
    "# Báo cáo Đồ án Lập trình song song trên GPU\n",
    "- Thông tin nhóm\n",
    "  - Nguyễn Ngọc Đức - 21424007\n",
    "  - Phan Phi Hùng - 21424023\n",
    "  - Lưu Minh Huy - 21424026\n",
    "- Github: https://github.com/minhhuy243/seam-carving"
   ]
  },
  {
   "attachments": {},
   "cell_type": "markdown",
   "metadata": {},
   "source": [
    "## 1. Mô tả ứng dụng\n",
    "- **Ứng dụng**: **Thay đổi kích thước ảnh bằng thuật toán Seam Carving (ở đồ án này chỉ thu hẹp chiều rộng)**\n",
    "    - Input: một tấm ảnh (RGB).\n",
    "    - Output: một tấm ảnh mới được thay đổi kích thước từ tấm ảnh gốc mà không làm biến dạng các đối tượng quan trọng.\n",
    "- **Ý nghĩa thực tế khi sử dụng?**\n",
    "    - Khi muốn có các phiên bản với các kích thước khác nhau của cùng một tấm ảnh để hiển thị trên các thiết bị khác nhau (máy tính, điện thoại, ...).\n",
    "   - Một ví dụ thực tế khi tạo thumbnail (ảnh đại diện) cho 1 video chúng ta sẽ dựa vào nhưng yếu tố khác để resize ảnh về đúng khung hình ta mong muốn như màn hình điện thoại 16:9 , 3:4.\n"
   ]
  },
  {
   "attachments": {},
   "cell_type": "markdown",
   "metadata": {},
   "source": [
    "## 2. Cài đặt tuần tự"
   ]
  },
  {
   "attachments": {},
   "cell_type": "markdown",
   "metadata": {},
   "source": [
    "![](./flowchart.png)"
   ]
  },
  {
   "attachments": {},
   "cell_type": "markdown",
   "metadata": {},
   "source": [
    "#### 2.1. Mô tả các bước triển khai:\n",
    "- **1. Chuyển ảnh từ RGB sang Grayscale.**\n",
    "- **2. Tính bảng Energy.**\n",
    "- **3. Tìm bảng chi phí nhỏ nhất.**\n",
    "    - Sử dụng Dynamic Programming để xây dựng bảng chi phí nhỏ nhất\n",
    "        - Ở hàng trên cùng ta có tổng chi phí giữ nguyên. Với các hàng còn lại, chi phí của mỗi pixel bằng engergy của nó cộng với chi phí nhỏ nhất của 3 pixel liền kề phía trên. <br/>\n",
    "        ![](./algo1.png)<br/>\n",
    "        > Nguồn ảnh: https://github.com/kalpeshdusane/Seam-Carving-B.E.-Project\n",
    "        - Lặp lại quá trình cho đến hàng cuối cùng ta được bảng chi phí nhỏ nhất. <br/>\n",
    "        ![](./algo2.png)\n",
    "        > Nguồn ảnh: https://github.com/kalpeshdusane/Seam-Carving-B.E.-Project\n",
    "- **4. Tìm Seam nhỏ nhất (truy từ dưới lên trên)**\n",
    "    - Từ bảng chi phí nhỏ nhất trên ta xác định được vị trí có tổng chi phí nhỏ nhất ở hàng cuối cùng và quay lui để xác định Seam nhỏ nhất<br/>\n",
    "    ![](./algo3.png)\n",
    "    > Nguồn ảnh: https://github.com/kalpeshdusane/Seam-Carving-B.E.-Project\n",
    "- **5. Xóa Seam nhỏ nhất đã tìm được từ bước 4.**\n",
    "- **6. Lặp lại từ bước 2 -> 5 cho đến khi đạt được số Seam mong muốn.**"
   ]
  },
  {
   "attachments": {},
   "cell_type": "markdown",
   "metadata": {},
   "source": [
    "#### 2.2. Ý tưởng cải tiến\n",
    "...."
   ]
  },
  {
   "attachments": {},
   "cell_type": "markdown",
   "metadata": {},
   "source": [
    "#### 2.3. Demo\n"
   ]
  },
  {
   "cell_type": "code",
   "execution_count": null,
   "metadata": {},
   "outputs": [],
   "source": [
    "!nvcc ./src/host.cu -o ./src/host"
   ]
  },
  {
   "cell_type": "code",
   "execution_count": null,
   "metadata": {},
   "outputs": [],
   "source": [
    "!./host ./images/broadcast_tower.pnm .\\output/broadcast_tower.pnm 150"
   ]
  },
  {
   "cell_type": "code",
   "execution_count": null,
   "metadata": {},
   "outputs": [],
   "source": [
    "show_pnm('broadcast_tower_host.pnm')"
   ]
  },
  {
   "attachments": {},
   "cell_type": "markdown",
   "metadata": {},
   "source": [
    "show_pnm('broadcast_tower_host.pnm')"
   ]
  },
  {
   "attachments": {},
   "cell_type": "markdown",
   "metadata": {},
   "source": [
    "## 3. Cài đặt song song"
   ]
  },
  {
   "attachments": {},
   "cell_type": "markdown",
   "metadata": {},
   "source": [
    "#### 3.1. Chọn các chức năng sẽ được song song và tối ưu hoá.\n",
    "\n",
    "##### 3.1.1. Chuyển ảnh từ RGB sang Grayscale trên hàm Kernel\n",
    "- Mỗi Thread sẽ đảm nhận tính kết quả grayscale cho mỗi pixel của ảnh.\n",
    "\n",
    "##### 3.1.2 Tính bảng Energy trên hàm Kernel\n",
    "- Mỗi Thread sẽ đảm nhận tính energy cho mỗi pixel của ảnh. \n",
    "- Sử dụng SMEM để giảm truy xuất GMEM, từ đó tăng tốc độ tính toán (tối ưu hóa).\n",
    "\n",
    "##### 3.1.3. Tính bảng chi phí nhỏ nhất trên hàm Kernel\n",
    "- Vì chi phí nhỏ nhất của mỗi pixel sẽ được tính bằng cách cộng thêm chi phí nhỏ nhất của 1 trong 3 pixel liền kề của dòng phía trên, nên ta có thể song song hoá việc tính chi phí theo từng dòng.\n",
    "- Trong hàm Kernel này thì việc tính bảng chi phí sẽ được tính trên mỗi dòng, sau đó các Thread được tạo sẽ đảm nhận tính chi phí cho mỗi pixel của dòng đó.\n",
    "- Khi tính toán thì mỗi dòng sẽ phụ thuộc vào dòng trên, nên các luồng sẽ được synchronize (đồng bộ hoá) sau mỗi dòng.\n",
    "\n",
    "#### 3.1.4. Xóa Seam nhỏ nhất trên hàm Kernel\n",
    "- Bản chất của xóa seam là dịch các pixel bên phải sang bên trái để lắp đầy các khoảng trống của mỗi dòng trên ảnh, do đó các phép gán có thể thực hiện độc lập trên từng Thread.\n",
    "- Mỗi Thread sẽ đảm nhận việc xóa một pixel trên mỗi dòng của Seam nhỏ nhất đã được tìm thấy trước đó."
   ]
  }
 ],
 "metadata": {
  "kernelspec": {
   "display_name": "Python 3",
   "language": "python",
   "name": "python3"
  },
  "language_info": {
   "codemirror_mode": {
    "name": "ipython",
    "version": 3
   },
   "file_extension": ".py",
   "mimetype": "text/x-python",
   "name": "python",
   "nbconvert_exporter": "python",
   "pygments_lexer": "ipython3",
   "version": "3.11.2"
  },
  "orig_nbformat": 4
 },
 "nbformat": 4,
 "nbformat_minor": 2
}
