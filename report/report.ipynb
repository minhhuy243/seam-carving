{
 "cells": [
  {
   "cell_type": "code",
   "execution_count": 1,
   "metadata": {},
   "outputs": [
    {
     "name": "stdout",
     "output_type": "stream",
     "text": [
      "d:\\gpu\\seam-carving\\report\\seam-carving\n"
     ]
    },
    {
     "name": "stderr",
     "output_type": "stream",
     "text": [
      "Cloning into 'seam-carving'...\n"
     ]
    }
   ],
   "source": [
    "!git clone https://github.com/minhhuy243/seam-carving.git\n",
    "%cd ./seam-carving"
   ]
  },
  {
   "cell_type": "code",
   "execution_count": 2,
   "metadata": {},
   "outputs": [],
   "source": [
    "from PIL import Image\n",
    "import numpy as np\n",
    "def show_pnm(file_name):\n",
    "  with open(file_name, 'r') as f:\n",
    "    vals = f.read().split()\n",
    "  w = int(vals[1])\n",
    "  h = int(vals[2])\n",
    "  if vals[0] == 'P2': # Grayscale\n",
    "    pixels = np.array(vals[4:], dtype=np.uint8).reshape((h, w))\n",
    "  elif vals[0] == 'P3': # RGB\n",
    "    pixels = np.array(vals[4:], dtype=np.uint8).reshape((h, w, 3))\n",
    "  else:\n",
    "    return None\n",
    "  \n",
    "  return Image.fromarray(pixels)"
   ]
  },
  {
   "attachments": {},
   "cell_type": "markdown",
   "metadata": {},
   "source": [
    "# Báo cáo Đồ án Lập trình song song trên GPU\n",
    "- Thông tin nhóm\n",
    "  - Nguyễn Ngọc Đức - 21424007\n",
    "  - Phan Phi Hùng - 21424023\n",
    "  - Lưu Minh Huy - 21424026\n",
    "- Github: https://github.com/minhhuy243/seam-carving"
   ]
  },
  {
   "attachments": {},
   "cell_type": "markdown",
   "metadata": {},
   "source": [
    "## 1. Mô tả ứng dụng\n",
    "- **Ứng dụng**: **Thay đổi kích thước ảnh bằng thuật toán Seam Carving (ở đồ án này chỉ thu hẹp chiều rộng)**\n",
    "    - Input: một tấm ảnh (RGB).\n",
    "    - Output: một tấm ảnh mới được thay đổi kích thước từ tấm ảnh gốc mà không làm biến dạng các đối tượng quan trọng.\n",
    "- **Ý nghĩa thực tế khi sử dụng?**\n",
    "    - Khi muốn có các phiên bản với các kích thước khác nhau của cùng một tấm ảnh để hiển thị trên các thiết bị khác nhau (máy tính, điện thoại, ...).\n",
    "   - Một ví dụ thực tế khi tạo thumbnail (ảnh đại diện) cho 1 video chúng ta sẽ dựa vào nhưng yếu tố khác để resize ảnh về đúng khung hình ta mong muốn như màn hình điện thoại 16:9 , 3:4.\n"
   ]
  },
  {
   "attachments": {},
   "cell_type": "markdown",
   "metadata": {},
   "source": [
    "## 2. Cài đặt tuần tự"
   ]
  },
  {
   "attachments": {},
   "cell_type": "markdown",
   "metadata": {},
   "source": [
    "![](./flowchart.png)"
   ]
  },
  {
   "attachments": {},
   "cell_type": "markdown",
   "metadata": {},
   "source": [
    "#### 2.1. Mô tả các bước triển khai:\n",
    "- **1. Chuyển ảnh từ RGB sang Grayscale.**\n",
    "- **2. Tính bảng Energy.**\n",
    "- **3. Tìm bảng chi phí nhỏ nhất.**\n",
    "    - Sử dụng Dynamic Programming để xây dựng bảng chi phí nhỏ nhất\n",
    "        - Ở hàng trên cùng ta có tổng chi phí giữ nguyên. Với các hàng còn lại, chi phí của mỗi pixel bằng engergy của nó cộng với chi phí nhỏ nhất của 3 pixel liền kề phía trên. <br/>\n",
    "        ![](./algo1.png)<br/>\n",
    "        > Nguồn ảnh: https://github.com/kalpeshdusane/Seam-Carving-B.E.-Project\n",
    "        - Lặp lại quá trình cho đến hàng cuối cùng ta được bảng chi phí nhỏ nhất. <br/>\n",
    "        ![](./algo2.png)\n",
    "        > Nguồn ảnh: https://github.com/kalpeshdusane/Seam-Carving-B.E.-Project\n",
    "- **4. Tìm Seam nhỏ nhất (truy từ dưới lên trên)**\n",
    "    - Từ bảng chi phí nhỏ nhất trên ta xác định được vị trí có tổng chi phí nhỏ nhất ở hàng cuối cùng và quay lui để xác định Seam nhỏ nhất<br/>\n",
    "    ![](./algo3.png)\n",
    "    > Nguồn ảnh: https://github.com/kalpeshdusane/Seam-Carving-B.E.-Project\n",
    "- **5. Xóa Seam nhỏ nhất đã tìm được từ bước 4.**\n",
    "- **6. Lặp lại từ bước 2 -> 5 cho đến khi đạt được số Seam mong muốn.**"
   ]
  },
  {
   "attachments": {},
   "cell_type": "markdown",
   "metadata": {},
   "source": [
    "#### 2.2. Ý tưởng cải tiến\n",
    "...."
   ]
  },
  {
   "attachments": {},
   "cell_type": "markdown",
   "metadata": {},
   "source": [
    "#### 2.3. Demo\n"
   ]
  },
  {
   "cell_type": "code",
   "execution_count": 3,
   "metadata": {},
   "outputs": [
    {
     "name": "stderr",
     "output_type": "stream",
     "text": [
      "'nvcc' is not recognized as an internal or external command,\n",
      "operable program or batch file.\n"
     ]
    }
   ],
   "source": [
    "!nvcc ./src/host.cu -o ./src/host"
   ]
  },
  {
   "cell_type": "code",
   "execution_count": 4,
   "metadata": {},
   "outputs": [
    {
     "name": "stderr",
     "output_type": "stream",
     "text": [
      "'.' is not recognized as an internal or external command,\n",
      "operable program or batch file.\n"
     ]
    }
   ],
   "source": [
    "!./src/host ./images/broadcast_tower.pnm .\\output/broadcast_tower.pnm 150"
   ]
  },
  {
   "cell_type": "code",
   "execution_count": 5,
   "metadata": {},
   "outputs": [
    {
     "ename": "FileNotFoundError",
     "evalue": "[Errno 2] No such file or directory: './output/broadcast_tower_host.pnm'",
     "output_type": "error",
     "traceback": [
      "\u001b[1;31m---------------------------------------------------------------------------\u001b[0m",
      "\u001b[1;31mFileNotFoundError\u001b[0m                         Traceback (most recent call last)",
      "Cell \u001b[1;32mIn[5], line 1\u001b[0m\n\u001b[1;32m----> 1\u001b[0m show_pnm(\u001b[39m'\u001b[39;49m\u001b[39m./output/broadcast_tower_host.pnm\u001b[39;49m\u001b[39m'\u001b[39;49m)\n",
      "Cell \u001b[1;32mIn[2], line 4\u001b[0m, in \u001b[0;36mshow_pnm\u001b[1;34m(file_name)\u001b[0m\n\u001b[0;32m      3\u001b[0m \u001b[39mdef\u001b[39;00m \u001b[39mshow_pnm\u001b[39m(file_name):\n\u001b[1;32m----> 4\u001b[0m   \u001b[39mwith\u001b[39;00m \u001b[39mopen\u001b[39;49m(file_name, \u001b[39m'\u001b[39;49m\u001b[39mr\u001b[39;49m\u001b[39m'\u001b[39;49m) \u001b[39mas\u001b[39;00m f:\n\u001b[0;32m      5\u001b[0m     vals \u001b[39m=\u001b[39m f\u001b[39m.\u001b[39mread()\u001b[39m.\u001b[39msplit()\n\u001b[0;32m      6\u001b[0m   w \u001b[39m=\u001b[39m \u001b[39mint\u001b[39m(vals[\u001b[39m1\u001b[39m])\n",
      "File \u001b[1;32mc:\\Users\\minhh\\AppData\\Local\\Programs\\Python\\Python311\\Lib\\site-packages\\IPython\\core\\interactiveshell.py:284\u001b[0m, in \u001b[0;36m_modified_open\u001b[1;34m(file, *args, **kwargs)\u001b[0m\n\u001b[0;32m    277\u001b[0m \u001b[39mif\u001b[39;00m file \u001b[39min\u001b[39;00m {\u001b[39m0\u001b[39m, \u001b[39m1\u001b[39m, \u001b[39m2\u001b[39m}:\n\u001b[0;32m    278\u001b[0m     \u001b[39mraise\u001b[39;00m \u001b[39mValueError\u001b[39;00m(\n\u001b[0;32m    279\u001b[0m         \u001b[39mf\u001b[39m\u001b[39m\"\u001b[39m\u001b[39mIPython won\u001b[39m\u001b[39m'\u001b[39m\u001b[39mt let you open fd=\u001b[39m\u001b[39m{\u001b[39;00mfile\u001b[39m}\u001b[39;00m\u001b[39m by default \u001b[39m\u001b[39m\"\u001b[39m\n\u001b[0;32m    280\u001b[0m         \u001b[39m\"\u001b[39m\u001b[39mas it is likely to crash IPython. If you know what you are doing, \u001b[39m\u001b[39m\"\u001b[39m\n\u001b[0;32m    281\u001b[0m         \u001b[39m\"\u001b[39m\u001b[39myou can use builtins\u001b[39m\u001b[39m'\u001b[39m\u001b[39m open.\u001b[39m\u001b[39m\"\u001b[39m\n\u001b[0;32m    282\u001b[0m     )\n\u001b[1;32m--> 284\u001b[0m \u001b[39mreturn\u001b[39;00m io_open(file, \u001b[39m*\u001b[39;49margs, \u001b[39m*\u001b[39;49m\u001b[39m*\u001b[39;49mkwargs)\n",
      "\u001b[1;31mFileNotFoundError\u001b[0m: [Errno 2] No such file or directory: './output/broadcast_tower_host.pnm'"
     ]
    }
   ],
   "source": [
    "show_pnm('./output/broadcast_tower_host.pnm')"
   ]
  },
  {
   "cell_type": "code",
   "execution_count": null,
   "metadata": {},
   "outputs": [],
   "source": [
    "show_pnm('./output/broadcast_tower_host_optimized.pnm')"
   ]
  },
  {
   "attachments": {},
   "cell_type": "markdown",
   "metadata": {},
   "source": [
    "## 3. Cài đặt song song"
   ]
  },
  {
   "attachments": {},
   "cell_type": "markdown",
   "metadata": {},
   "source": [
    "#### 3.1. Chọn các chức năng sẽ được song song và tối ưu hoá\n",
    "\n",
    "##### 3.1.1. Chuyển ảnh từ RGB sang Grayscale trên hàm Kernel\n",
    "- Mỗi Thread sẽ đảm nhận tính kết quả grayscale cho mỗi pixel của ảnh.\n",
    "\n",
    "##### 3.1.2 Tính bảng Energy trên hàm Kernel\n",
    "- Mỗi Thread sẽ đảm nhận tính energy cho mỗi pixel của ảnh. \n",
    "- Sử dụng SMEM để giảm truy xuất GMEM, từ đó tăng tốc độ tính toán (tối ưu hóa).\n",
    "\n",
    "##### 3.1.3. Tính bảng chi phí nhỏ nhất trên hàm Kernel\n",
    "- Vì chi phí nhỏ nhất của mỗi pixel sẽ được tính bằng cách cộng thêm chi phí nhỏ nhất của 1 trong 3 pixel liền kề của dòng phía trên, nên ta có thể song song hoá việc tính chi phí theo từng dòng.\n",
    "- Trong hàm Kernel này thì việc tính bảng chi phí sẽ được tính trên mỗi dòng, sau đó các Thread được tạo sẽ đảm nhận tính chi phí cho mỗi pixel của dòng đó.\n",
    "- Khi tính toán thì mỗi dòng sẽ phụ thuộc vào dòng trên, nên các luồng sẽ được synchronize (đồng bộ hoá) sau mỗi dòng.\n",
    "\n",
    "##### 3.1.4. Xóa Seam nhỏ nhất trên hàm Kernel\n",
    "- Bản chất của xóa seam là dịch các pixel bên phải sang bên trái để lắp đầy các khoảng trống của mỗi dòng trên ảnh, do đó các phép gán có thể thực hiện độc lập trên từng Thread.\n",
    "- Mỗi Thread sẽ đảm nhận việc xóa một pixel trên mỗi dòng của Seam nhỏ nhất đã được tìm thấy trước đó."
   ]
  },
  {
   "attachments": {},
   "cell_type": "markdown",
   "metadata": {},
   "source": [
    "#### 3.2. Demo"
   ]
  },
  {
   "cell_type": "code",
   "execution_count": null,
   "metadata": {},
   "outputs": [],
   "source": [
    "!nvcc ./src/device.cu -o ./src/device"
   ]
  },
  {
   "attachments": {},
   "cell_type": "markdown",
   "metadata": {},
   "source": [
    "- Cat"
   ]
  },
  {
   "attachments": {},
   "cell_type": "markdown",
   "metadata": {},
   "source": [
    "!./src/device ./images/cat.pnm .\\output/cat.pnm 150"
   ]
  },
  {
   "cell_type": "code",
   "execution_count": null,
   "metadata": {},
   "outputs": [],
   "source": [
    "show_pnm('./output/cat_host.pnm')"
   ]
  },
  {
   "cell_type": "code",
   "execution_count": null,
   "metadata": {},
   "outputs": [],
   "source": [
    "show_pnm('./output/cat_device.pnm')"
   ]
  },
  {
   "attachments": {},
   "cell_type": "markdown",
   "metadata": {},
   "source": [
    "- Elephant"
   ]
  },
  {
   "cell_type": "code",
   "execution_count": null,
   "metadata": {},
   "outputs": [],
   "source": [
    "!./src/device ./images/elephant.pnm .\\output/elephant.pnm 250"
   ]
  },
  {
   "cell_type": "code",
   "execution_count": null,
   "metadata": {},
   "outputs": [],
   "source": [
    "show_pnm('./output/elephant_host.pnm')"
   ]
  },
  {
   "cell_type": "code",
   "execution_count": null,
   "metadata": {},
   "outputs": [],
   "source": [
    "show_pnm('./output/elephant_device.pnm')"
   ]
  },
  {
   "attachments": {},
   "cell_type": "markdown",
   "metadata": {},
   "source": [
    "- Clock"
   ]
  },
  {
   "cell_type": "code",
   "execution_count": null,
   "metadata": {},
   "outputs": [],
   "source": [
    "!./src/device ./images/clock.pnm .\\output/clock.pnm 350"
   ]
  },
  {
   "cell_type": "code",
   "execution_count": null,
   "metadata": {},
   "outputs": [],
   "source": [
    "show_pnm('./output/clock_host.pnm')"
   ]
  },
  {
   "cell_type": "code",
   "execution_count": null,
   "metadata": {},
   "outputs": [],
   "source": [
    "show_pnm('./output/clock_device.pnm')"
   ]
  },
  {
   "attachments": {},
   "cell_type": "markdown",
   "metadata": {},
   "source": [
    "## 4. Những điểm chưa đạt được"
   ]
  },
  {
   "attachments": {},
   "cell_type": "markdown",
   "metadata": {},
   "source": [
    "## 5. Tài liệu tham khảo\n",
    "- https://vnoi.info/wiki/cs/imageprocessing/Seam-Carving.md\n",
    "- https://github.com/kalpeshdusane/Seam-Carving-B.E.-Project\n",
    "- https://shwestrick.github.io/2020/07/29/seam-carve.html"
   ]
  }
 ],
 "metadata": {
  "kernelspec": {
   "display_name": "Python 3",
   "language": "python",
   "name": "python3"
  },
  "language_info": {
   "codemirror_mode": {
    "name": "ipython",
    "version": 3
   },
   "file_extension": ".py",
   "mimetype": "text/x-python",
   "name": "python",
   "nbconvert_exporter": "python",
   "pygments_lexer": "ipython3",
   "version": "3.11.2"
  },
  "orig_nbformat": 4
 },
 "nbformat": 4,
 "nbformat_minor": 2
}
